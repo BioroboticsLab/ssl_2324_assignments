{
 "cells": [
  {
   "cell_type": "markdown",
   "metadata": {},
   "source": [
    "# Welcome to your 9th assignment!\n",
    "\n",
    "Please submit your solution of this notebook in the Whiteboard at the corresponding Assignment entry. We need you to upload the .ipynb-file and the exported .pdf of this notebook.\n",
    "\n",
    "If you have any questions, ask them in either in the tutorials or in the \"Mattermost\" channel: https://mattermost.imp.fu-berlin.de/biorobotics/channels/ssl_ws_2324\n",
    "\n",
    "\n",
    "In this assignment, we want you to learn CIFAR10 representations using BYOL and VICReg."
   ]
  },
  {
   "cell_type": "markdown",
   "metadata": {},
   "source": [
    "#### Please state both names of your group members here:\n",
    "Authors: Jane and John Doe"
   ]
  },
  {
   "cell_type": "markdown",
   "metadata": {},
   "source": [
    "# Assignment 9: BYOL\n",
    "\n",
    "Reading List: <br>\n",
    "[BYOL Paper](https://arxiv.org/abs/2006.07733) <br>\n",
    "[VICReg Paper](https://arxiv.org/abs/2105.04906) <br>\n",
    "\n",
    "## Ex. 9.1 BYOL\n",
    "\n",
    "Comparable to the last assignment, we want you to implement the BYOL pipeline. The model should be able to learn representations on the CIFAR10 dataset.\n",
    "\n",
    "Setup your BYOL model. **(RESULT)**"
   ]
  },
  {
   "cell_type": "code",
   "execution_count": 1,
   "metadata": {},
   "outputs": [],
   "source": [
    "# Code here"
   ]
  },
  {
   "cell_type": "markdown",
   "metadata": {},
   "source": [
    "## Ex. 9.2 Training on CIFAR10 & representation evaluation\n",
    "\n",
    "Train your BYOL model on [CIFAR10](https://www.cs.toronto.edu/~kriz/cifar.html). **(RESULT)**\n",
    "\n",
    "Evaluate the representations of your model, i.e. via linear probing."
   ]
  },
  {
   "cell_type": "code",
   "execution_count": null,
   "metadata": {},
   "outputs": [],
   "source": [
    "# Code here"
   ]
  },
  {
   "cell_type": "markdown",
   "metadata": {},
   "source": [
    "## Ex. 9.3 VICReg (BONUS)\n",
    "\n",
    "Does VICReg improve the representation learning on CIFAR10? Implement the VICReg pipeline and compare your results to your BYOL approach. **(RESULT)**"
   ]
  },
  {
   "cell_type": "code",
   "execution_count": null,
   "metadata": {},
   "outputs": [],
   "source": [
    "# Code here"
   ]
  }
 ],
 "metadata": {
  "kernelspec": {
   "display_name": "uptodate",
   "language": "python",
   "name": "python3"
  },
  "language_info": {
   "codemirror_mode": {
    "name": "ipython",
    "version": 3
   },
   "file_extension": ".py",
   "mimetype": "text/x-python",
   "name": "python",
   "nbconvert_exporter": "python",
   "pygments_lexer": "ipython3",
   "version": "3.10.8"
  }
 },
 "nbformat": 4,
 "nbformat_minor": 2
}
