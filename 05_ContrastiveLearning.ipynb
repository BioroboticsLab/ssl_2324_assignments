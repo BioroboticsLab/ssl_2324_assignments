{
 "cells": [
  {
   "cell_type": "markdown",
   "metadata": {},
   "source": [
    "# Welcome to assignment #5!\n",
    "\n",
    "Please submit your solution of this notebook in the Whiteboard at the corresponding Assignment entry. We need you to upload the .ipynb-file and the exported .pdf of this notebook.\n",
    "\n",
    "If you have any questions, ask them in either in the tutorials or in the \"Mattermost\" channel. The channel is called SSL_WS_2324, you can join the server using this [Link](https://mattermost.imp.fu-berlin.de/signup_user_complete/?id=h5ssupqokprtpyf4dr7xabiwpc&md=link&sbr=su) and can search for the public channel.\n",
    "\n",
    "\n",
    "This week we will learn representations using a Contrastive loss function."
   ]
  },
  {
   "cell_type": "markdown",
   "metadata": {},
   "source": [
    "# Slide Review\n",
    "\n",
    "[Google Form](https://forms.gle/3DTirLWzpmbatqnV7) for the slide review. Please take a minute to scroll over the slides again and improve your lecture.\n",
    "\n",
    "Please make sure to only choose your top 5 slides per lecture!"
   ]
  },
  {
   "cell_type": "markdown",
   "metadata": {},
   "source": [
    "# PapagAI\n",
    "\n",
    "From the second week onwards we started the reflective study.\n",
    "Register on the [PapagAI website](https://www.papag.ai) and write your first reflection about your impressions and challenges in the context of the lectures and tutorials you had this and previous week. The size of reflection can be anywhere bigger than 100 words. You can check out this [YouTube video](https://www.youtube.com/watch?v=QdmZHocZQBk&ab_channel=FernandoRamosL%C3%B3pez) with instructions on how to register, create a reflection and get an ai feedback.\n",
    "\n",
    "Please note, that this task is an obligatory one for this course and make sure each of you does the reflection, not only one person per group."
   ]
  },
  {
   "cell_type": "markdown",
   "metadata": {},
   "source": [
    "#### Please state both names of your group members here:\n",
    "Authors: Jane and John Doe"
   ]
  },
  {
   "cell_type": "markdown",
   "metadata": {},
   "source": [
    "# Assignment 5: Contrastive Learning\n",
    "\n",
    "## Ex. 5.1 Supervised model baseline\n",
    "\n",
    "Implement a small supervised ConvNet and train it on [MNIST](https://pytorch.org/vision/main/generated/torchvision.datasets.MNIST.html) to have a baseline accuracy to compare against later. This helps to evaluate the representation quality later. Try using similar hyperparameters (i.e., Learning rate) for your contrastive learning in 5.2 and 5.3. You may train for 3-5 epochs. **(RESULT)**"
   ]
  },
  {
   "cell_type": "code",
   "execution_count": null,
   "metadata": {},
   "outputs": [],
   "source": [
    "# Code here"
   ]
  },
  {
   "cell_type": "markdown",
   "metadata": {},
   "source": [
    "## Ex. 5.2 Contrastive Learning\n",
    "\n",
    "Implement a ConvNet to learn representations in a constrastive fashion for the [MNIST](https://pytorch.org/vision/main/generated/torchvision.datasets.MNIST.html) dataset. 3 Conv layers should be sufficient. You don't need a fully connected layer in the end during training. **(RESULT)**\n",
    "\n",
    "Test the quality of your representations using a classifier consisting of just one linear layer. What accuracy can you achieve based on your representations? Compare against the accuracy of your supervised model. **(RESULT)**"
   ]
  },
  {
   "cell_type": "code",
   "execution_count": null,
   "metadata": {},
   "outputs": [],
   "source": [
    "# Code here"
   ]
  },
  {
   "cell_type": "markdown",
   "metadata": {},
   "source": [
    "## Ex. 5.3 Contrastive Loss with Margin (BONUS)\n",
    "\n",
    "Implement a contrastive loss function with margin. Does this improve your representation quality? Check the accuracy with a classifier like in 5.2. Compare your results with those from 5.1 and 5.2. **(RESULT)**"
   ]
  },
  {
   "cell_type": "code",
   "execution_count": null,
   "metadata": {},
   "outputs": [],
   "source": [
    "# Code here"
   ]
  }
 ],
 "metadata": {
  "kernelspec": {
   "display_name": "uptodate",
   "language": "python",
   "name": "python3"
  },
  "language_info": {
   "codemirror_mode": {
    "name": "ipython",
    "version": 3
   },
   "file_extension": ".py",
   "mimetype": "text/x-python",
   "name": "python",
   "nbconvert_exporter": "python",
   "pygments_lexer": "ipython3",
   "version": "3.10.8"
  }
 },
 "nbformat": 4,
 "nbformat_minor": 2
}
