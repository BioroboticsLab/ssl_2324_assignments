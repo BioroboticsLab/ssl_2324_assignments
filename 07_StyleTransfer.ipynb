{
 "cells": [
  {
   "cell_type": "markdown",
   "metadata": {},
   "source": [
    "# Welcome to your 7th assignment!\n",
    "\n",
    "Please submit your solution of this notebook in the Whiteboard at the corresponding Assignment entry. We need you to upload the .ipynb-file and the exported .pdf of this notebook.\n",
    "\n",
    "If you have any questions, ask them in either in the tutorials or in the \"Mattermost\" channel: https://mattermost.imp.fu-berlin.de/biorobotics/channels/ssl_ws_2324\n",
    "\n",
    "\n",
    "In this assignment, we want you to get more comfortable with Augmentations as they are crucial for Self-Supervised Learning."
   ]
  },
  {
   "cell_type": "markdown",
   "metadata": {},
   "source": [
    "# Slide Review\n",
    "\n",
    "[Google Form](https://forms.gle/6N3fVL2aEE6EpWbC6) for the slide review of this week. Please take a minute to scroll over the slides again and improve your lecture.\n",
    "\n",
    "This [Google Form](https://forms.gle/5JnDpKeGPvXaHbCp8) is for last weeks lecture slides, since we forgot to include them in the last assignment.\n",
    "\n",
    "Please make sure to only choose your top 5 slides per lecture!"
   ]
  },
  {
   "cell_type": "markdown",
   "metadata": {},
   "source": [
    "# PapagAI\n",
    "\n",
    "From this week onwards we start the reflective study we told you about on the first lecture.\n",
    "Register on the [PapagAI website](https://www.papag.ai) and write your first reflection about your impressions and challenges in the context of the lectures and tutorials you had this and previous week. The size of reflection can be anywhere bigger than 100 words. You can check out this [YouTube video](https://www.youtube.com/watch?v=QdmZHocZQBk&ab_channel=FernandoRamosL%C3%B3pez) with instructions on how to register, create a reflection and get an ai feedback.\n",
    "\n",
    "Please note, that this task is an obligatory one for this course and make sure each of you does the reflection, not only one person per group."
   ]
  },
  {
   "cell_type": "markdown",
   "metadata": {},
   "source": [
    "#### Please state both names of your group members here:\n",
    "Authors: Jane and John Doe"
   ]
  },
  {
   "cell_type": "markdown",
   "metadata": {},
   "source": [
    "# Assignment 7: Style Transfer\n",
    "\n",
    "## Ex. 7.1 Custom Augmentations\n",
    "\n",
    "Implement your own augmentation and evaluate in in the contrastive learning setting. You can re-use your code from the previous assignment to train a model using a contrastive loss. \n",
    "Try and compare performances on the different augmentations you implemented (at least 3). **(RESULT)**"
   ]
  },
  {
   "cell_type": "code",
   "execution_count": null,
   "metadata": {},
   "outputs": [],
   "source": [
    "# Code here"
   ]
  },
  {
   "cell_type": "markdown",
   "metadata": {},
   "source": [
    "## Ex. 7.2 Style Transfer\n",
    "\n",
    "Implement [Style Transfer](https://arxiv.org/abs/1508.06576) by yourself using a pretrained VGG-19 model. You can find the weights for this (and other) models with PyTorch very easily [(VGG-19 weights)](https://pytorch.org/vision/0.13/models/generated/torchvision.models.vgg19.html). Feel free to use different models and/or a different source for any pretrained weights if you want to.\n",
    "\n",
    "Based on your pretrained model, implement the two-fold loss by yourself and create at least 2 Style Transfer images of your choice. **(RESULT)**\n",
    "\n",
    "Additionally, create \"painting style\" augmentations for 2 of your images from Ex. 7.1. **(RESULT)**\n",
    "\n",
    "(Maybe) useful: [Blogpost](https://towardsdatascience.com/how-do-neural-style-transfers-work-b76de101eb3)"
   ]
  },
  {
   "cell_type": "code",
   "execution_count": null,
   "metadata": {},
   "outputs": [],
   "source": [
    "# Code here"
   ]
  },
  {
   "cell_type": "markdown",
   "metadata": {},
   "source": [
    "## Ex. 7.3 Conditional GAN (BONUS)\n",
    "\n",
    "Implement a [GAN](https://arxiv.org/abs/1406.2661) and let it generate MNIST digits. Are you able to generate digits of a specific class using a [cGAN](https://arxiv.org/abs/1411.1784). **(RESULT)**"
   ]
  },
  {
   "cell_type": "code",
   "execution_count": null,
   "metadata": {},
   "outputs": [],
   "source": [
    "# Code here"
   ]
  }
 ],
 "metadata": {
  "kernelspec": {
   "display_name": "Python 3",
   "language": "python",
   "name": "python3"
  },
  "language_info": {
   "codemirror_mode": {
    "name": "ipython",
    "version": 3
   },
   "file_extension": ".py",
   "mimetype": "text/x-python",
   "name": "python",
   "nbconvert_exporter": "python",
   "pygments_lexer": "ipython3",
   "version": "3.10.8"
  }
 },
 "nbformat": 4,
 "nbformat_minor": 2
}
