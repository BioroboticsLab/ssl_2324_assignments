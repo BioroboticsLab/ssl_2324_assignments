{
 "cells": [
  {
   "cell_type": "markdown",
   "metadata": {},
   "source": [
    "# Welcome to your 11th assignment!\n",
    "\n",
    "Please submit your solution of this notebook in the Whiteboard at the corresponding Assignment entry. We need you to upload the .ipynb-file and the exported .pdf of this notebook.\n",
    "\n",
    "If you have any questions, ask them in either in the tutorials or in the \"Mattermost\" channel: https://mattermost.imp.fu-berlin.de/biorobotics/channels/ssl_ws_2324\n",
    "\n",
    "\n",
    "For the last assignment of the course, we want you to solve a small project working on data from the ***ElectroFish*** project.\n",
    "\n",
    "Useful links: <br>\n",
    "[Blogpost (1)](https://shchur.github.io/blog/2020/tpp1-conditional-intensity/)<br>\n",
    "[Blogpost (2)](https://shchur.github.io/blog/2021/tpp2-neural-tpps/)<br>"
   ]
  },
  {
   "cell_type": "markdown",
   "metadata": {},
   "source": [
    "# ElectroFish\n",
    "\n",
    "## Short Description\n",
    "The ElectroFish project is based around a fish species with an electric organ. The fish can emit electric impulses that are used for communication and navigation. One purpose of the experiments is to gain insight into the fish's social interactions.\n",
    "\n",
    "\n",
    "## ElectroFish Assignment Goal\n",
    "Using SSL, we want to learn a joint embedding of the fish's locomotory behaviour and the fish's EOD (Electric Organ Discharge) activity. <br> \n",
    "We want to use this embedding to create counterfactuals, i.e. we want to find neural activity that would lead to a certain behaviour and vice versa. <br>\n",
    "\n",
    "\n",
    "## Data\n",
    "You will find the data here: <br>\n",
    "[gDrive](https://drive.google.com/drive/folders/11kz1BGG4qCm7uGdHDINltBo53fD_YvPD?usp=drive_link)\n",
    "\n",
    "The data is structured as follows:\n",
    "\n",
    "-> Mormyrus_Pair_xx <br>\n",
    "&nbsp;&nbsp;&nbsp;&nbsp;-> 20230316_Mormyrus_Pair_xx.json.gz <br>\n",
    "&nbsp;&nbsp;&nbsp;&nbsp;-> fish_ids <br>\n",
    "&nbsp;&nbsp;&nbsp;&nbsp;&nbsp;&nbsp;&nbsp;&nbsp;-> labels.png <br>\n",
    "&nbsp;&nbsp;&nbsp;&nbsp;&nbsp;&nbsp;&nbsp;&nbsp;-> labels.xlsx <br>\n",
    "&nbsp;&nbsp;&nbsp;&nbsp;-> metadata <br>\n",
    "&nbsp;&nbsp;&nbsp;&nbsp;&nbsp;&nbsp;&nbsp;&nbsp;-> tank_annotations.json <br>\n",
    "&nbsp;&nbsp;&nbsp;&nbsp;&nbsp;&nbsp;&nbsp;&nbsp;-> video_meta.json <br>\n",
    "&nbsp;&nbsp;&nbsp;&nbsp;-> poses <br>\n",
    "&nbsp;&nbsp;&nbsp;&nbsp;&nbsp;&nbsp;&nbsp;&nbsp;-> poses.h5 <br>\n",
    "&nbsp;&nbsp;&nbsp;&nbsp;&nbsp;&nbsp;&nbsp;&nbsp;-> poses.slp <br>\n",
    "&nbsp;&nbsp;&nbsp;&nbsp;-> raw <br>\n",
    "&nbsp;&nbsp;&nbsp;&nbsp;&nbsp;&nbsp;&nbsp;&nbsp;-> 20230316_Mormyrus_Pair_xx.mp4 <br>\n",
    "&nbsp;&nbsp;&nbsp;&nbsp;&nbsp;&nbsp;&nbsp;&nbsp;-> 20230316_Mormyrus_Pair_xx.smr <br>\n",
    "\n",
    "The **.json.gz** file contains the processed data used for training a location prediction model. We recommend checking this out first to get a nice overview. <br>\n",
    "The **fish_ids** folder contains the manually labeled EOD signals. <br>\n",
    "The **metadata** folder contains the metadata for the tank and video of the experiment. <br>\n",
    "The **poses** folder contains the tracking data of the fish obtained with a [SLEAP](https://sleap.ai/) model. <br>\n",
    "The **raw** folder contains the raw data of the experiment: .mp4 video recording and .smr continuous electrode data recodring. <br>\n",
    "\n",
    "To get a nice overview of the data, we recommend checking out the **.json.gz** file and the **metadata**-folder first.<br>\n",
    "Like mentioned before, the **.json.gz** file contains the processed data used for training a location prediction model. It contains data points for every eod event happening in the experiment. For our tasks, we recommend processing the full data yourself (.h5 or .slp file for full tracking data; .smr file for full electrode data), to not loose any information. <br>\n",
    "\n",
    "The columns of the DataFrame provide you with a nice overview of the data:\n",
    "- **time_stamp**: The time stamp of the EOD event in seconds\n",
    "- **video_frame**: The video frame in which the EOD event occured\n",
    "- **fish_id**: The ID of the fish that emitted the EOD event\n",
    "    - manually labeled in Pair experiments with 1 being the bigger fish\n",
    "- **pixel_tracks**: all SLEAP track in pixel coordinates of the given video_frame\n",
    "    - The shape of the data [2,6,2] corresponds to [fish_id, bodypart_id, x/y coordinates]\n",
    "    - The bodyparts: \n",
    "        - 0: head\n",
    "        - 1: left_fin\n",
    "        - 2: right_fin\n",
    "        - 3: body_end\n",
    "        - 4: back_fin\n",
    "        - 5: middle\n",
    "- **world_tracks**: all SLEAP tracks in world coordinates\n",
    "- **tracking_scores**: 'confidence' score of SLEAP for all fish \n",
    "- **ced_electrode_data**: of the peak detected from the smr-data\n",
    "    - EOD event sensor data\n",
    "    - The shape of the data [4,70] corresponds to [elecrode_id, value window of size 70]\n",
    "- **efi_electrode_data**: of the peak detected from the board-data\n",
    "    - Different sensor for measurung EOD events\n",
    "    - Shape [4,50]\n",
    "\n",
    "\n",
    "## Milestones\n",
    "To provide you with more detailed subtasks, we split the assignment into 3 milestones. Each milestone represents the workload of 1 week and should be submitted like an assignment sheet. Therefore, please use and submit this notebook in the Whiteboard at the corresponding Assignment entry. We need you to upload the .ipynb-file and the exported .pdf of this notebook. \n",
    "\n",
    "**Milestone 1** <br>\n",
    "Done. <br>\n",
    "\n",
    "**Milestone 2** <br>\n",
    "*Goal*: Train an imiation model of the fish electrical behaviour. <br>\n",
    "*Steps*: <br>\n",
    "&nbsp;&nbsp;&nbsp;&nbsp;1) Preprossessing input and output data <br>\n",
    "&nbsp;&nbsp;&nbsp;&nbsp;&nbsp;&nbsp;&nbsp;&nbsp;Inputs: [EOD signal] <br>\n",
    "&nbsp;&nbsp;&nbsp;&nbsp;&nbsp;&nbsp;&nbsp;&nbsp;Output: [PDF parameters] <br>\n",
    "&nbsp;&nbsp;&nbsp;&nbsp;2) Prepare DataLoader<br>\n",
    "&nbsp;&nbsp;&nbsp;&nbsp;3) Train Imitation model for the EOD signal<br>\n",
    "&nbsp;&nbsp;&nbsp;&nbsp;4) Visualization / Evaluation <br>\n",
    "\n",
    "**Milestone 3** <br>\n",
    "*TBC in 2 weeks, 06.02.24*\n"
   ]
  },
  {
   "cell_type": "code",
   "execution_count": 1,
   "metadata": {},
   "outputs": [],
   "source": [
    "import numpy as np\n",
    "import matplotlib.pyplot as plt\n",
    "import seaborn as sns\n",
    "import pandas as pd\n",
    "import torch\n",
    "import sys\n",
    "from tqdm.notebook import tqdm\n",
    "\n",
    "# Load processed EOD data\n",
    "from fish_helper import DatasetContainer"
   ]
  },
  {
   "cell_type": "code",
   "execution_count": 2,
   "metadata": {},
   "outputs": [
    {
     "name": "stderr",
     "output_type": "stream",
     "text": [
      "/home/mi/manueh51/ssl_2324_assignments/fish_helper.py:59: FutureWarning: Passing literal json to 'read_json' is deprecated and will be removed in a future version. To read from a literal string, wrap it in a 'StringIO' object.\n",
      "  self.data = pd.read_json(container_json['data'], dtype=dtype)\n"
     ]
    },
    {
     "name": "stdout",
     "output_type": "stream",
     "text": [
      "{'tank_corner_points': [[128.95050048828125, 1697.019775390625], [113.4000015258789, 280.3999938964844], [1831.026123046875, 279.8823547363281], [1831.59716796875, 1672.93994140625]], 'pixel_to_world_matrix': [[0.06644436292251645, -0.0007293721365335534, -7.330274914167141], [-0.0009595544796270599, -0.06784856731417248, 115.26409549446636], [-9.74359066112888e-06, -6.028094366956945e-06, 1.0]], 'world_to_pixel_matrix': [[14.893747708751922, -0.1715645723739672, 128.95050048828125], [0.03626900649996236, -14.720576310935625, 1697.019775390625], [0.0001453372084619642, -9.04086815969854e-05, 1.0]], 'tracks_minimum_score': 3.0, 'first_frame_of_sync': 136, 'time_of_video': 308.6, 'fps': 25, 'peak_left_offset': 35, 'peak_right_offset': 35, 'peak_prominence': 0.03, 'filter_plateau': True, 'min_plateau_size': 3, 'num_real_fish': 2, 'dtypes': {'time_stamp': 'float64', 'video_frame': 'int64', 'fish_id': 'Int64', 'pixel_tracks': 'object', 'world_tracks': 'object', 'tracking_scores': 'object', 'ced_electrode_data': 'object', 'efi_electrode_data': 'object'}, 'board_data_lag_to_smr': 207376, 'board_data_lag_to_smr_in_seconds': 4.14752, 'board_data_lag_to_smr_manuel_adjustment_to_automatic_in_seconds': 0.0}\n"
     ]
    },
    {
     "data": {
      "text/html": [
       "<div>\n",
       "<style scoped>\n",
       "    .dataframe tbody tr th:only-of-type {\n",
       "        vertical-align: middle;\n",
       "    }\n",
       "\n",
       "    .dataframe tbody tr th {\n",
       "        vertical-align: top;\n",
       "    }\n",
       "\n",
       "    .dataframe thead th {\n",
       "        text-align: right;\n",
       "    }\n",
       "</style>\n",
       "<table border=\"1\" class=\"dataframe\">\n",
       "  <thead>\n",
       "    <tr style=\"text-align: right;\">\n",
       "      <th></th>\n",
       "      <th>time_stamp</th>\n",
       "      <th>video_frame</th>\n",
       "      <th>fish_id</th>\n",
       "      <th>pixel_tracks</th>\n",
       "      <th>world_tracks</th>\n",
       "      <th>tracking_scores</th>\n",
       "      <th>ced_electrode_data</th>\n",
       "      <th>efi_electrode_data</th>\n",
       "    </tr>\n",
       "  </thead>\n",
       "  <tbody>\n",
       "    <tr>\n",
       "      <th>0</th>\n",
       "      <td>0.01120</td>\n",
       "      <td>136</td>\n",
       "      <td>1</td>\n",
       "      <td>[[[1637.6125488281, 1552.1987304688], [1686.54...</td>\n",
       "      <td>[[[102.9537891214, 8.5958438126], [106.3467447...</td>\n",
       "      <td>[4.6689133644, 4.9788632393]</td>\n",
       "      <td>[[1.8263244629000002, 1.8272399902, 1.82739257...</td>\n",
       "      <td>[[285, 299, 280, 333, 283, 261, 184, 252, 93, ...</td>\n",
       "    </tr>\n",
       "    <tr>\n",
       "      <th>1</th>\n",
       "      <td>0.02490</td>\n",
       "      <td>137</td>\n",
       "      <td>2</td>\n",
       "      <td>[[[1627.2991943359, 1553.25], [1681.615234375,...</td>\n",
       "      <td>[[[102.2400654784, 8.5319933544], [106.0039933...</td>\n",
       "      <td>[4.7536907196, 4.8814210892]</td>\n",
       "      <td>[[1.8272399902, 1.8278503418, 1.8267822266, 1....</td>\n",
       "      <td>[[327, 354, 319, 323, 357, 424, 294, 409, 419,...</td>\n",
       "    </tr>\n",
       "    <tr>\n",
       "      <th>2</th>\n",
       "      <td>0.06948</td>\n",
       "      <td>138</td>\n",
       "      <td>1</td>\n",
       "      <td>[[[1616.6354980469, 1557.095703125], [1676.027...</td>\n",
       "      <td>[[[101.5019092768, 8.2741293738], [105.6156216...</td>\n",
       "      <td>[4.6453266144, 4.9770188332]</td>\n",
       "      <td>[[1.8240356444999999, 1.8254089355, 1.82205200...</td>\n",
       "      <td>[[359, 343, 399, 331, 350, 376, 346, 378, 260,...</td>\n",
       "    </tr>\n",
       "    <tr>\n",
       "      <th>3</th>\n",
       "      <td>0.08270</td>\n",
       "      <td>138</td>\n",
       "      <td>2</td>\n",
       "      <td>[[[1616.6354980469, 1557.095703125], [1676.027...</td>\n",
       "      <td>[[[101.5019092768, 8.2741293738], [105.6156216...</td>\n",
       "      <td>[4.6453266144, 4.9770188332]</td>\n",
       "      <td>[[1.8228149413999999, 1.8264770508, 1.82662963...</td>\n",
       "      <td>[[357, 423, 353, 366, 413, 469, 437, 478, 537,...</td>\n",
       "    </tr>\n",
       "    <tr>\n",
       "      <th>4</th>\n",
       "      <td>0.13838</td>\n",
       "      <td>139</td>\n",
       "      <td>1</td>\n",
       "      <td>[[[1606.1176757812, 1557.5185546875], [1674.60...</td>\n",
       "      <td>[[[100.7743917906, 8.2542062312], [105.5168695...</td>\n",
       "      <td>[4.479634285, 5.1406679153]</td>\n",
       "      <td>[[1.8197631836000001, 1.8228149413999999, 1.82...</td>\n",
       "      <td>[[301, 290, 318, 288, 314, 279, 258, 255, 154,...</td>\n",
       "    </tr>\n",
       "    <tr>\n",
       "      <th>5</th>\n",
       "      <td>0.15188</td>\n",
       "      <td>140</td>\n",
       "      <td>2</td>\n",
       "      <td>[[[1599.9650878906, 1558.1341552734], [1669.49...</td>\n",
       "      <td>[[[100.3488395774, 8.2169473611], [105.1628198...</td>\n",
       "      <td>[4.4004626274, 4.8763465881]</td>\n",
       "      <td>[[1.8260192871, 1.8212890625, 1.8229675293, 1....</td>\n",
       "      <td>[[374, 324, 459, 351, 407, 371, 387, 388, 480,...</td>\n",
       "    </tr>\n",
       "    <tr>\n",
       "      <th>6</th>\n",
       "      <td>0.19700</td>\n",
       "      <td>141</td>\n",
       "      <td>2</td>\n",
       "      <td>[[[1590.3410644531, 1562.8796386719], [1663.90...</td>\n",
       "      <td>[[[99.682780818, 7.8956671369], [104.775387448...</td>\n",
       "      <td>[4.092713356, 4.5360798836]</td>\n",
       "      <td>[[1.8270874023, 1.8240356444999999, 1.82586669...</td>\n",
       "      <td>[[275, 328, 296, 305, 290, 312, 268, 297, 239,...</td>\n",
       "    </tr>\n",
       "    <tr>\n",
       "      <th>7</th>\n",
       "      <td>0.20324</td>\n",
       "      <td>141</td>\n",
       "      <td>1</td>\n",
       "      <td>[[[1590.3410644531, 1562.8796386719], [1663.90...</td>\n",
       "      <td>[[[99.682780818, 7.8956671369], [104.775387448...</td>\n",
       "      <td>[4.092713356, 4.5360798836]</td>\n",
       "      <td>[[1.831817627, 1.8243408203, 1.8209838867, 1.8...</td>\n",
       "      <td>[[275, 328, 296, 305, 290, 312, 268, 297, 239,...</td>\n",
       "    </tr>\n",
       "    <tr>\n",
       "      <th>8</th>\n",
       "      <td>0.23648</td>\n",
       "      <td>142</td>\n",
       "      <td>2</td>\n",
       "      <td>[[[1584.3190917969, 1567.75], [1658.6987304688...</td>\n",
       "      <td>[[[99.2658024619, 7.5624747078], [104.41480335...</td>\n",
       "      <td>[4.2152342796, 3.9297819138000003]</td>\n",
       "      <td>[[1.8272399902, 1.8301391602, 1.8284606934, 1....</td>\n",
       "      <td>[[360, 336, 360, 390, 433, 362, 407, 401, 412,...</td>\n",
       "    </tr>\n",
       "    <tr>\n",
       "      <th>9</th>\n",
       "      <td>0.27080</td>\n",
       "      <td>143</td>\n",
       "      <td>1</td>\n",
       "      <td>[[[1579.3872070312, 1568.7956542969], [1649.35...</td>\n",
       "      <td>[[[98.9247250831, 7.4942501428], [103.76764361...</td>\n",
       "      <td>[4.2730569839, 3.4880776405000002]</td>\n",
       "      <td>[[1.8276977538999999, 1.8264770508, 1.82846069...</td>\n",
       "      <td>[[286, 387, 323, 305, 433, 358, 422, 429, 467,...</td>\n",
       "    </tr>\n",
       "  </tbody>\n",
       "</table>\n",
       "</div>"
      ],
      "text/plain": [
       "   time_stamp  video_frame  fish_id  \\\n",
       "0     0.01120          136        1   \n",
       "1     0.02490          137        2   \n",
       "2     0.06948          138        1   \n",
       "3     0.08270          138        2   \n",
       "4     0.13838          139        1   \n",
       "5     0.15188          140        2   \n",
       "6     0.19700          141        2   \n",
       "7     0.20324          141        1   \n",
       "8     0.23648          142        2   \n",
       "9     0.27080          143        1   \n",
       "\n",
       "                                        pixel_tracks  \\\n",
       "0  [[[1637.6125488281, 1552.1987304688], [1686.54...   \n",
       "1  [[[1627.2991943359, 1553.25], [1681.615234375,...   \n",
       "2  [[[1616.6354980469, 1557.095703125], [1676.027...   \n",
       "3  [[[1616.6354980469, 1557.095703125], [1676.027...   \n",
       "4  [[[1606.1176757812, 1557.5185546875], [1674.60...   \n",
       "5  [[[1599.9650878906, 1558.1341552734], [1669.49...   \n",
       "6  [[[1590.3410644531, 1562.8796386719], [1663.90...   \n",
       "7  [[[1590.3410644531, 1562.8796386719], [1663.90...   \n",
       "8  [[[1584.3190917969, 1567.75], [1658.6987304688...   \n",
       "9  [[[1579.3872070312, 1568.7956542969], [1649.35...   \n",
       "\n",
       "                                        world_tracks  \\\n",
       "0  [[[102.9537891214, 8.5958438126], [106.3467447...   \n",
       "1  [[[102.2400654784, 8.5319933544], [106.0039933...   \n",
       "2  [[[101.5019092768, 8.2741293738], [105.6156216...   \n",
       "3  [[[101.5019092768, 8.2741293738], [105.6156216...   \n",
       "4  [[[100.7743917906, 8.2542062312], [105.5168695...   \n",
       "5  [[[100.3488395774, 8.2169473611], [105.1628198...   \n",
       "6  [[[99.682780818, 7.8956671369], [104.775387448...   \n",
       "7  [[[99.682780818, 7.8956671369], [104.775387448...   \n",
       "8  [[[99.2658024619, 7.5624747078], [104.41480335...   \n",
       "9  [[[98.9247250831, 7.4942501428], [103.76764361...   \n",
       "\n",
       "                      tracking_scores  \\\n",
       "0        [4.6689133644, 4.9788632393]   \n",
       "1        [4.7536907196, 4.8814210892]   \n",
       "2        [4.6453266144, 4.9770188332]   \n",
       "3        [4.6453266144, 4.9770188332]   \n",
       "4         [4.479634285, 5.1406679153]   \n",
       "5        [4.4004626274, 4.8763465881]   \n",
       "6         [4.092713356, 4.5360798836]   \n",
       "7         [4.092713356, 4.5360798836]   \n",
       "8  [4.2152342796, 3.9297819138000003]   \n",
       "9  [4.2730569839, 3.4880776405000002]   \n",
       "\n",
       "                                  ced_electrode_data  \\\n",
       "0  [[1.8263244629000002, 1.8272399902, 1.82739257...   \n",
       "1  [[1.8272399902, 1.8278503418, 1.8267822266, 1....   \n",
       "2  [[1.8240356444999999, 1.8254089355, 1.82205200...   \n",
       "3  [[1.8228149413999999, 1.8264770508, 1.82662963...   \n",
       "4  [[1.8197631836000001, 1.8228149413999999, 1.82...   \n",
       "5  [[1.8260192871, 1.8212890625, 1.8229675293, 1....   \n",
       "6  [[1.8270874023, 1.8240356444999999, 1.82586669...   \n",
       "7  [[1.831817627, 1.8243408203, 1.8209838867, 1.8...   \n",
       "8  [[1.8272399902, 1.8301391602, 1.8284606934, 1....   \n",
       "9  [[1.8276977538999999, 1.8264770508, 1.82846069...   \n",
       "\n",
       "                                  efi_electrode_data  \n",
       "0  [[285, 299, 280, 333, 283, 261, 184, 252, 93, ...  \n",
       "1  [[327, 354, 319, 323, 357, 424, 294, 409, 419,...  \n",
       "2  [[359, 343, 399, 331, 350, 376, 346, 378, 260,...  \n",
       "3  [[357, 423, 353, 366, 413, 469, 437, 478, 537,...  \n",
       "4  [[301, 290, 318, 288, 314, 279, 258, 255, 154,...  \n",
       "5  [[374, 324, 459, 351, 407, 371, 387, 388, 480,...  \n",
       "6  [[275, 328, 296, 305, 290, 312, 268, 297, 239,...  \n",
       "7  [[275, 328, 296, 305, 290, 312, 268, 297, 239,...  \n",
       "8  [[360, 336, 360, 390, 433, 362, 407, 401, 412,...  \n",
       "9  [[286, 387, 323, 305, 433, 358, 422, 429, 467,...  "
      ]
     },
     "execution_count": 2,
     "metadata": {},
     "output_type": "execute_result"
    }
   ],
   "source": [
    "# Getting an idea of the data. \n",
    "# (And maybe to determine the starting video frame of the eod data for future milestones)\n",
    "\n",
    "data = DatasetContainer()\n",
    "data.load(path='data/Mormyrus_Pair_01/dataset/20230316_Mormyrus_Pair_01.json.gz')\n",
    "\n",
    "# Show meta data\n",
    "print(data.meta)\n",
    "\n",
    "# Show data\n",
    "# data.data.info()\n",
    "data.data.head(10)"
   ]
  },
  {
   "cell_type": "code",
   "execution_count": 3,
   "metadata": {},
   "outputs": [
    {
     "data": {
      "text/plain": [
       "(2, 6, 2)"
      ]
     },
     "execution_count": 3,
     "metadata": {},
     "output_type": "execute_result"
    }
   ],
   "source": [
    "# Electrode data sample\n",
    "data.data[\"pixel_tracks\"][0].shape"
   ]
  },
  {
   "cell_type": "code",
   "execution_count": 4,
   "metadata": {},
   "outputs": [
    {
     "name": "stdout",
     "output_type": "stream",
     "text": [
      "(5456, 4, 70)\n"
     ]
    },
    {
     "data": {
      "text/plain": [
       "<Axes: >"
      ]
     },
     "execution_count": 4,
     "metadata": {},
     "output_type": "execute_result"
    },
    {
     "data": {
      "image/png": "[encoded data removed]",
      "text/plain": [
       "<Figure size 800x600 with 1 Axes>"
      ]
     },
     "metadata": {},
     "output_type": "display_data"
    }
   ],
   "source": [
    "# Sample plot for electrode spike data\n",
    "to_plot = np.stack(data.data.ced_electrode_data.loc[:].to_numpy())\n",
    "print(to_plot.shape)\n",
    "\n",
    "fig = plt.figure(figsize=(8, 6))\n",
    "ax = fig.add_subplot()\n",
    "\n",
    "sns.lineplot(\n",
    "    pd.DataFrame({\n",
    "        '1': to_plot[0,0],\n",
    "        '2': to_plot[0,1],\n",
    "        '3': to_plot[0,2],\n",
    "        '4': to_plot[0,3],\n",
    "    }))"
   ]
  },
  {
   "cell_type": "code",
   "execution_count": 5,
   "metadata": {},
   "outputs": [
    {
     "name": "stdout",
     "output_type": "stream",
     "text": [
      "(2, 7715)\n",
      "(7715, 6, 2, 2)\n"
     ]
    }
   ],
   "source": [
    "# Read .h5 or .slp file for full tracking data\n",
    "# https://sleap.ai/tutorials/analysis.html\n",
    "# https://sleap.ai/api/sleap.io.convert.html#module-sleap.io.convert\n",
    "\n",
    "import h5py\n",
    "\n",
    "with h5py.File('data/Mormyrus_Pair_01/poses/20230316_Mormyrus_Pair_01.000_20230316_Mormyrus_Pair_01.analysis.h5', 'r') as f:\n",
    "    occupancy_matrix = f['track_occupancy'][:]\n",
    "    tracks_matrix = f['tracks'][:]\n",
    "\n",
    "print(occupancy_matrix.T.shape)\n",
    "print(tracks_matrix.T.shape)"
   ]
  },
  {
   "cell_type": "code",
   "execution_count": 6,
   "metadata": {},
   "outputs": [],
   "source": [
    "# Package for the raytracing for wall information\n",
    "# https://git.imp.fu-berlin.de/bioroboticslab/robofish/fish_models/\n",
    "\n",
    "# Raycast example usage\n",
    "# https://git.imp.fu-berlin.de/bioroboticslab/robofish/fish_models/-/blob/dev_andi_train/examples/raycast_examples.ipynb"
   ]
  },
  {
   "cell_type": "markdown",
   "metadata": {},
   "source": []
  },
  {
   "cell_type": "markdown",
   "metadata": {},
   "source": [
    "## Milestone 2\n",
    "### Step 1 - Preprocess data\n",
    "\n",
    "As a first step we want you to preprocess the input and output data to feed them into future models. <br>\n",
    "The input data should be preprocessed (see [Blogpost](https://shchur.github.io/blog/2021/tpp2-neural-tpps/)) to feed it into an imitation model.<br>\n",
    "\n",
    "Suggestions for the input data: <br>\n",
    "**Input Vector**: [EOD signal] <br>\n",
    "**Output Vector**: [Parameters for a Probability Density Function] <br>"
   ]
  },
  {
   "cell_type": "code",
   "execution_count": null,
   "metadata": {},
   "outputs": [],
   "source": [
    "# Code here"
   ]
  },
  {
   "cell_type": "markdown",
   "metadata": {},
   "source": [
    "### Step 2 - Prepare Dataloader\n",
    "\n",
    "Set up the dataloader to train the autoregressive imitation model on. The labels should future events of the sequence. <br>"
   ]
  },
  {
   "cell_type": "code",
   "execution_count": null,
   "metadata": {},
   "outputs": [],
   "source": [
    "# Code here"
   ]
  },
  {
   "cell_type": "markdown",
   "metadata": {},
   "source": [
    "### Step 3 - Train Imitation model\n",
    "\n",
    "Set up and train your imitation model on your dataloader."
   ]
  },
  {
   "cell_type": "code",
   "execution_count": null,
   "metadata": {},
   "outputs": [],
   "source": [
    "# Code here"
   ]
  },
  {
   "cell_type": "markdown",
   "metadata": {},
   "source": [
    "### Step 4 - Visualization / Evaluation\n",
    "\n",
    "Visualize the signal generated by your model. Evaluate the model's performance."
   ]
  },
  {
   "cell_type": "code",
   "execution_count": null,
   "metadata": {},
   "outputs": [],
   "source": [
    "# Code here"
   ]
  }
 ],
 "metadata": {
  "kernelspec": {
   "display_name": "uptodate",
   "language": "python",
   "name": "python3"
  },
  "language_info": {
   "codemirror_mode": {
    "name": "ipython",
    "version": 3
   },
   "file_extension": ".py",
   "mimetype": "text/x-python",
   "name": "python",
   "nbconvert_exporter": "python",
   "pygments_lexer": "ipython3",
   "version": "3.9.18"
  }
 },
 "nbformat": 4,
 "nbformat_minor": 2
}
