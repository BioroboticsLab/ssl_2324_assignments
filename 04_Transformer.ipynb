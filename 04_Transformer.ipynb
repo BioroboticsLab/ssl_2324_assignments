{
 "cells": [
  {
   "cell_type": "markdown",
   "metadata": {},
   "source": [
    "# Welcome to assignment #4!\n",
    "\n",
    "Please submit your solution of this notebook in the Whiteboard at the corresponding Assignment entry. We need you to upload the .ipynb-file and the exported .pdf of this notebook.\n",
    "\n",
    "If you have any questions, ask them in either in the tutorials or in the \"Mattermost\" channel. The channel is called SSL_WS_2324, you can join the server using this [Link](https://mattermost.imp.fu-berlin.de/signup_user_complete/?id=h5ssupqokprtpyf4dr7xabiwpc&md=link&sbr=su) and can search for the public channel.\n",
    "\n",
    "\n",
    "This week is all about attention."
   ]
  },
  {
   "cell_type": "markdown",
   "metadata": {},
   "source": [
    "# Slide Review\n",
    "\n",
    "[Google Form](https://forms.gle/u2BeWjDEQ5ZW1jZk8) for the slide review. Please take a minute to scroll over the slides again and improve your lecture.\n",
    "\n",
    "Please make sure to only choose your top 5 slides per lecture!"
   ]
  },
  {
   "cell_type": "markdown",
   "metadata": {},
   "source": [
    "# PapagAI\n",
    "\n",
    "From the second week onwards we started the reflective study.\n",
    "Register on the [PapagAI website](https://www.papag.ai) and write your first reflection about your impressions and challenges in the context of the lectures and tutorials you had this and previous week. The size of reflection can be anywhere bigger than 100 words. You can check out this [YouTube video](https://www.youtube.com/watch?v=QdmZHocZQBk&ab_channel=FernandoRamosL%C3%B3pez) with instructions on how to register, create a reflection and get an ai feedback.\n",
    "\n",
    "Please note, that this task is an obligatory one for this course and make sure each of you does the reflection, not only one person per group."
   ]
  },
  {
   "cell_type": "markdown",
   "metadata": {},
   "source": [
    "#### Please state both names of your group members here:\n",
    "Authors: Jane and John Doe"
   ]
  },
  {
   "cell_type": "markdown",
   "metadata": {},
   "source": [
    "# Assignment 4: Transformers\n",
    "\n",
    "## Ex. 4.1 Attention\n",
    "\n",
    "Build the self-attension layer by yourself like it is introduced in [Attention is all you need](https://arxiv.org/abs/1706.03762). Make sure to combine Query, Key and Value in the right way and to apply the softmax function to the attention scores. **(RESULT)**"
   ]
  },
  {
   "cell_type": "code",
   "execution_count": null,
   "metadata": {},
   "outputs": [],
   "source": [
    "# Code here"
   ]
  },
  {
   "cell_type": "markdown",
   "metadata": {},
   "source": [
    "## Ex. 4.2 Shakespeare\n",
    "\n",
    "For this exercise, we want you to generate shakespeare-like sentences using the transformer approach with the attention mechanism as its core. \n",
    "\n",
    "To solve this, we want you to implement the following pipeline:\n",
    "\n",
    "**Input -> Embedding -> N x (Transformer-Block) -> FC-Layer -> Softmax -> Output**\n",
    "\n",
    "The \"Transformer-Block\" should look like this:\n",
    "\n",
    "**Self-Attention -> LayerNorm -> FeedForward -> LayerNorm**\n",
    "\n",
    "The tinyShakespeare dataset is available [Here](https://www.tensorflow.org/datasets/catalog/tiny_shakespeare).\n",
    "\n",
    "You are free to utilize any Tokenizer for Encoding you want and you are allowed to use implementations/libraries for this. We recommend Byte Pair Encoding (BPE). [Link](https://huggingface.co/learn/nlp-course/chapter6/5?fw=pt). You are not allowed to use a transformer implementation to solve the whole task. We want you to build this pipeline around your own attention function. For the feed-forward part and fully connected layer, you may use the PyTorch implementation. **(RESULT)**\n",
    "\n",
    "How did you pick **N** for your best result? **(RESULT)**"
   ]
  },
  {
   "cell_type": "code",
   "execution_count": null,
   "metadata": {},
   "outputs": [],
   "source": [
    "# Code here"
   ]
  }
 ],
 "metadata": {
  "kernelspec": {
   "display_name": "uptodate",
   "language": "python",
   "name": "python3"
  },
  "language_info": {
   "codemirror_mode": {
    "name": "ipython",
    "version": 3
   },
   "file_extension": ".py",
   "mimetype": "text/x-python",
   "name": "python",
   "nbconvert_exporter": "python",
   "pygments_lexer": "ipython3",
   "version": "3.10.8"
  }
 },
 "nbformat": 4,
 "nbformat_minor": 2
}
